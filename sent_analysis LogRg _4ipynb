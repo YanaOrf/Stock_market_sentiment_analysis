{
 "cells": [
  {
   "cell_type": "code",
   "execution_count": 2,
   "metadata": {},
   "outputs": [],
   "source": [
    "#pip install seaborn"
   ]
  },
  {
   "cell_type": "code",
   "execution_count": 3,
   "metadata": {},
   "outputs": [],
   "source": [
    "#pip install urllib3"
   ]
  },
  {
   "cell_type": "code",
   "execution_count": 4,
   "metadata": {},
   "outputs": [],
   "source": [
    "#pip install requests"
   ]
  },
  {
   "cell_type": "code",
   "execution_count": 5,
   "metadata": {},
   "outputs": [],
   "source": [
    "#pip install yfinance"
   ]
  },
  {
   "cell_type": "code",
   "execution_count": 6,
   "metadata": {},
   "outputs": [],
   "source": [
    "#pip install pystan"
   ]
  },
  {
   "cell_type": "code",
   "execution_count": 7,
   "metadata": {},
   "outputs": [],
   "source": [
    "import numpy as np\n",
    "import pandas as pd\n",
    "import matplotlib.pyplot as plt\n",
    "import seaborn as sns\n",
    "import urllib3\n",
    "import json\n",
    "import requests\n",
    "from pandas.io.json import json_normalize\n",
    "from datetime import datetime\n",
    "import yfinance as yf\n",
    "\n",
    "#Install Dependencies\n",
    "import tensorflow as tf\n",
    "from tensorflow import keras\n",
    "import torch\n",
    "import re\n",
    "\n",
    "# import nltk\n",
    "# from nltk.corpus import stopwords\n",
    "# from nltk import tokenize\n",
    "from keras.preprocessing.text import Tokenizer\n",
    "\n",
    "\n",
    "from transformers import AutoTokenizer, AutoModelForSequenceClassification\n",
    "tokenizer = AutoTokenizer.from_pretrained(\"ProsusAI/finbert\")\n",
    "model = AutoModelForSequenceClassification.from_pretrained(\"ProsusAI/finbert\")\n",
    "\n",
    "#statsmodels\n",
    "import statsmodels.api as sm\n",
    "from statsmodels.tsa.stattools import adfuller\n",
    "from statsmodels.stats.outliers_influence import variance_inflation_factor\n",
    "\n",
    "# Sklearn\n",
    "from sklearn.linear_model import LinearRegression\n",
    "from sklearn.linear_model  import LogisticRegression\n",
    "from sklearn.metrics import accuracy_score,confusion_matrix,classification_report\n",
    "from sklearn.preprocessing import OneHotEncoder\n",
    "from sklearn.preprocessing import LabelEncoder\n",
    "from sklearn.model_selection import train_test_split\n",
    "from sklearn import datasets\n",
    "from sklearn import svm\n",
    "from sklearn.preprocessing import MinMaxScaler\n",
    "from sklearn.preprocessing import StandardScaler\n",
    "from sklearn.model_selection import KFold,StratifiedKFold\n",
    "#Model evaluation\n",
    "from sklearn.metrics import mean_squared_error\n",
    "from sklearn.metrics import mean_absolute_error\n",
    "from sklearn.metrics import r2_score\n",
    "import math\n",
    "\n"
   ]
  },
  {
   "cell_type": "code",
   "execution_count": 8,
   "metadata": {},
   "outputs": [],
   "source": [
    "from  prophet import Prophet"
   ]
  },
  {
   "cell_type": "code",
   "execution_count": 9,
   "metadata": {},
   "outputs": [],
   "source": [
    "news=pd.read_csv(\"/Users/Yanaorfin_1/Documents/Academy/Stock_market_sentiment_analysis/Data_set/news_11-12.2022.csv\")\n"
   ]
  },
  {
   "cell_type": "code",
   "execution_count": 10,
   "metadata": {},
   "outputs": [],
   "source": [
    "news_2=pd.read_csv(\"/Users/Yanaorfin_1/Documents/Academy/Stock_market_sentiment_analysis/Data_set/news_dec_jan.csv\")"
   ]
  },
  {
   "cell_type": "markdown",
   "metadata": {},
   "source": [
    "                                                                                    Collect data from yfinance "
   ]
  },
  {
   "cell_type": "code",
   "execution_count": 11,
   "metadata": {},
   "outputs": [],
   "source": [
    "sp500=yf.Ticker(\"^GSPC\")"
   ]
  },
  {
   "cell_type": "code",
   "execution_count": 12,
   "metadata": {},
   "outputs": [],
   "source": [
    "GTHX=yf.Ticker(\"GTHX\")"
   ]
  },
  {
   "cell_type": "code",
   "execution_count": 13,
   "metadata": {},
   "outputs": [
    {
     "data": {
      "text/plain": [
       "[{'uuid': '16290702-f8d4-3305-9537-3b4c4bf36a02',\n",
       "  'title': 'Buy the stock market dip? Why ‘cash’ yielding the most since 2007 could be king',\n",
       "  'publisher': 'MarketWatch',\n",
       "  'link': 'https://finance.yahoo.com/m/16290702-f8d4-3305-9537-3b4c4bf36a02/buy-the-stock-market-dip%3F-why.html',\n",
       "  'providerPublishTime': 1676826060,\n",
       "  'type': 'STORY',\n",
       "  'thumbnail': {'resolutions': [{'url': 'https://s.yimg.com/uu/api/res/1.2/JVm3hyYvKOOVrO1rc6GehA--~B/aD02NDA7dz0xMjgwO2FwcGlkPXl0YWNoeW9u/https://media.zenfs.com/en/marketwatch.com/173bb13d1624f79593c69173337ba670',\n",
       "     'width': 1280,\n",
       "     'height': 640,\n",
       "     'tag': 'original'},\n",
       "    {'url': 'https://s.yimg.com/uu/api/res/1.2/OP.JIwquUiTSlYZBJ8Fbcw--~B/Zmk9ZmlsbDtoPTE0MDtweW9mZj0wO3c9MTQwO2FwcGlkPXl0YWNoeW9u/https://media.zenfs.com/en/marketwatch.com/173bb13d1624f79593c69173337ba670',\n",
       "     'width': 140,\n",
       "     'height': 140,\n",
       "     'tag': '140x140'}]},\n",
       "  'relatedTickers': ['^GSPC']},\n",
       " {'uuid': '65444088-cfd0-3425-81f4-64e4e3064c2d',\n",
       "  'title': 'Dow Jones Futures: Market Rally Holds Up; Tesla Lithium Buzz, Nvidia Earnings In Focus',\n",
       "  'publisher': \"Investor's Business Daily\",\n",
       "  'link': 'https://finance.yahoo.com/m/65444088-cfd0-3425-81f4-64e4e3064c2d/dow-jones-futures%3A-market.html',\n",
       "  'providerPublishTime': 1676821958,\n",
       "  'type': 'STORY',\n",
       "  'thumbnail': {'resolutions': [{'url': 'https://s.yimg.com/uu/api/res/1.2/aYgc9Y7NjsFT8wF7ggN97Q--~B/aD01NjM7dz0xMDAwO2FwcGlkPXl0YWNoeW9u/https://media.zenfs.com/en/ibd.com/57150eeabf017858536dcceaf1adb491',\n",
       "     'width': 1000,\n",
       "     'height': 563,\n",
       "     'tag': 'original'},\n",
       "    {'url': 'https://s.yimg.com/uu/api/res/1.2/Ww2hALyB7F_apyp1gIKOjA--~B/Zmk9ZmlsbDtoPTE0MDtweW9mZj0wO3c9MTQwO2FwcGlkPXl0YWNoeW9u/https://media.zenfs.com/en/ibd.com/57150eeabf017858536dcceaf1adb491',\n",
       "     'width': 140,\n",
       "     'height': 140,\n",
       "     'tag': '140x140'}]},\n",
       "  'relatedTickers': ['TSLA', 'NVDA', 'COMP', '^GSPC', '^DJI', 'MELI', 'TOL']},\n",
       " {'uuid': 'c07336ab-63f0-33a3-85a9-6e3bbbbbca15',\n",
       "  'title': 'Investors in a Bind as Risk Appetite Slams Into a Resolute Fed',\n",
       "  'publisher': 'Bloomberg',\n",
       "  'link': 'https://finance.yahoo.com/news/investors-bind-risk-appetite-slams-143922081.html',\n",
       "  'providerPublishTime': 1676817562,\n",
       "  'type': 'STORY',\n",
       "  'thumbnail': {'resolutions': [{'url': 'https://s.yimg.com/uu/api/res/1.2/yJe_g.7PoufoJss1pa8e2g--~B/aD02NzU7dz0xMjAwO2FwcGlkPXl0YWNoeW9u/https://media.zenfs.com/en/bloomberg_markets_842/7483d8f8603a89fa796c66c9c78490f5',\n",
       "     'width': 1200,\n",
       "     'height': 675,\n",
       "     'tag': 'original'},\n",
       "    {'url': 'https://s.yimg.com/uu/api/res/1.2/jWahHIwCjFLFtqtpOOZNtg--~B/Zmk9ZmlsbDtoPTE0MDtweW9mZj0wO3c9MTQwO2FwcGlkPXl0YWNoeW9u/https://media.zenfs.com/en/bloomberg_markets_842/7483d8f8603a89fa796c66c9c78490f5',\n",
       "     'width': 140,\n",
       "     'height': 140,\n",
       "     'tag': '140x140'}]},\n",
       "  'relatedTickers': ['^GSPC']},\n",
       " {'uuid': 'b31aca34-68d4-425f-b16d-8cc1ad1a52ab',\n",
       "  'title': 'Fed minutes, PCE inflation, Walmart earnings: What to know this week',\n",
       "  'publisher': 'Yahoo Finance',\n",
       "  'link': 'https://finance.yahoo.com/news/stock-market-week-ahead-pce-inflation-federal-reserve-retail-earnings-142330965.html',\n",
       "  'providerPublishTime': 1676816610,\n",
       "  'type': 'STORY',\n",
       "  'thumbnail': {'resolutions': [{'url': 'https://s.yimg.com/uu/api/res/1.2/aw2vDS_i2bmdNRUB6u8yCw--~B/aD00MTA3O3c9NjE1NzthcHBpZD15dGFjaHlvbg--/https://s.yimg.com/os/creatr-uploaded-images/2023-02/e4c054a0-aeef-11ed-bd6f-5016d56b647c',\n",
       "     'width': 6157,\n",
       "     'height': 4107,\n",
       "     'tag': 'original'},\n",
       "    {'url': 'https://s.yimg.com/uu/api/res/1.2/DanBP3LDOLN9luNeqUztfA--~B/Zmk9ZmlsbDtoPTE0MDtweW9mZj0wO3c9MTQwO2FwcGlkPXl0YWNoeW9u/https://s.yimg.com/os/creatr-uploaded-images/2023-02/e4c054a0-aeef-11ed-bd6f-5016d56b647c',\n",
       "     'width': 140,\n",
       "     'height': 140,\n",
       "     'tag': '140x140'}]},\n",
       "  'relatedTickers': ['HD', 'WMT', '^DJI', '^GSPC', '^IXIC']},\n",
       " {'uuid': '9d6c0a03-e914-3d74-9856-daaff964789b',\n",
       "  'title': \"S&P 500 Outlook: Don't Fight The Fed, But Don't Fear It Either\",\n",
       "  'publisher': \"Investor's Business Daily\",\n",
       "  'link': 'https://finance.yahoo.com/m/9d6c0a03-e914-3d74-9856-daaff964789b/s%26p-500-outlook%3A-don%27t-fight.html',\n",
       "  'providerPublishTime': 1676813151,\n",
       "  'type': 'STORY',\n",
       "  'thumbnail': {'resolutions': [{'url': 'https://s.yimg.com/uu/api/res/1.2/prCQaLED1NUG2HVBLjESng--~B/aD01NjM7dz0xMDAwO2FwcGlkPXl0YWNoeW9u/https://media.zenfs.com/en/ibd.com/ca51bd0f015d9389d7bb2b8faaf46213',\n",
       "     'width': 1000,\n",
       "     'height': 563,\n",
       "     'tag': 'original'},\n",
       "    {'url': 'https://s.yimg.com/uu/api/res/1.2/jBE8F1bWry0uXcDNzZJeRQ--~B/Zmk9ZmlsbDtoPTE0MDtweW9mZj0wO3c9MTQwO2FwcGlkPXl0YWNoeW9u/https://media.zenfs.com/en/ibd.com/ca51bd0f015d9389d7bb2b8faaf46213',\n",
       "     'width': 140,\n",
       "     'height': 140,\n",
       "     'tag': '140x140'}]},\n",
       "  'relatedTickers': ['^GSPC', '^HSI', '^FTSE', '^FCHI']},\n",
       " {'uuid': '4710ec3c-2eba-3ab0-ae8a-c13654f38139',\n",
       "  'title': 'Despite Another Dividend Cut, Devon Energy is Delivering Exceptional Performance',\n",
       "  'publisher': 'Motley Fool',\n",
       "  'link': 'https://finance.yahoo.com/m/4710ec3c-2eba-3ab0-ae8a-c13654f38139/despite-another-dividend-cut%2C.html',\n",
       "  'providerPublishTime': 1676812440,\n",
       "  'type': 'STORY',\n",
       "  'thumbnail': {'resolutions': [{'url': 'https://s.yimg.com/uu/api/res/1.2/zaWA6ueIrH9mT7MTAQbguw--~B/aD0xNDE0O3c9MjEyMTthcHBpZD15dGFjaHlvbg--/https://media.zenfs.com/en/motleyfool.com/190b46fd19a3b9ae845cfe0a168823ed',\n",
       "     'width': 2121,\n",
       "     'height': 1414,\n",
       "     'tag': 'original'},\n",
       "    {'url': 'https://s.yimg.com/uu/api/res/1.2/cR_sadoLtw6q5.PJ4qxR9g--~B/Zmk9ZmlsbDtoPTE0MDtweW9mZj0wO3c9MTQwO2FwcGlkPXl0YWNoeW9u/https://media.zenfs.com/en/motleyfool.com/190b46fd19a3b9ae845cfe0a168823ed',\n",
       "     'width': 140,\n",
       "     'height': 140,\n",
       "     'tag': '140x140'}]},\n",
       "  'relatedTickers': ['DVN', '^GSPC']},\n",
       " {'uuid': 'cb55ec7c-c811-3f56-863f-cdce21bfd0a5',\n",
       "  'title': 'Al Gore’s Firm Sells Alibaba Stock, TSMC, and Shopify',\n",
       "  'publisher': 'Barrons.com',\n",
       "  'link': 'https://finance.yahoo.com/m/cb55ec7c-c811-3f56-863f-cdce21bfd0a5/al-gore%E2%80%99s-firm-sells-alibaba.html',\n",
       "  'providerPublishTime': 1676811600,\n",
       "  'type': 'STORY',\n",
       "  'thumbnail': {'resolutions': [{'url': 'https://s.yimg.com/uu/api/res/1.2/zCRZMz5tUG93JF3olt87jA--~B/aD02NDA7dz0xMjgwO2FwcGlkPXl0YWNoeW9u/https://media.zenfs.com/en/Barrons.com/9b9c2f342e508f9dc117201bd60e430f',\n",
       "     'width': 1280,\n",
       "     'height': 640,\n",
       "     'tag': 'original'},\n",
       "    {'url': 'https://s.yimg.com/uu/api/res/1.2/jDUSg7lN.0OFYLVwwYsZsw--~B/Zmk9ZmlsbDtoPTE0MDtweW9mZj0wO3c9MTQwO2FwcGlkPXl0YWNoeW9u/https://media.zenfs.com/en/Barrons.com/9b9c2f342e508f9dc117201bd60e430f',\n",
       "     'width': 140,\n",
       "     'height': 140,\n",
       "     'tag': '140x140'}]},\n",
       "  'relatedTickers': ['SHOP', 'BABA', 'TXN', '^GSPC', 'TSM']},\n",
       " {'uuid': 'f6186ac1-4e78-3e91-ab48-92244a48011a',\n",
       "  'title': 'The US government hit its $31.4 trillion debt ceiling — triggering fears of a nasty fallout for Americans. Here are the 3 harmful ways it could impact you',\n",
       "  'publisher': 'MoneyWise',\n",
       "  'link': 'https://finance.yahoo.com/news/us-government-just-hit-31-190000536.html',\n",
       "  'providerPublishTime': 1676804400,\n",
       "  'type': 'STORY',\n",
       "  'thumbnail': {'resolutions': [{'url': 'https://s.yimg.com/uu/api/res/1.2/PYVk6SNKDtYLExmX03P62w--~B/aD00MDA7dz03Mjg7YXBwaWQ9eXRhY2h5b24-/https://media.zenfs.com/en/moneywise_327/81a48484a128669a56d73f129c79db88',\n",
       "     'width': 728,\n",
       "     'height': 400,\n",
       "     'tag': 'original'},\n",
       "    {'url': 'https://s.yimg.com/uu/api/res/1.2/Lni8lqQEGqgAdXpX.Xnj7g--~B/Zmk9ZmlsbDtoPTE0MDtweW9mZj0wO3c9MTQwO2FwcGlkPXl0YWNoeW9u/https://media.zenfs.com/en/moneywise_327/81a48484a128669a56d73f129c79db88',\n",
       "     'width': 140,\n",
       "     'height': 140,\n",
       "     'tag': '140x140'}]},\n",
       "  'relatedTickers': ['^GSPC']}]"
      ]
     },
     "execution_count": 13,
     "metadata": {},
     "output_type": "execute_result"
    }
   ],
   "source": [
    "sp500.get_news()"
   ]
  },
  {
   "cell_type": "code",
   "execution_count": 14,
   "metadata": {},
   "outputs": [],
   "source": [
    "index_price=sp500.history(start=\"2022-11-01\", end=\"2023-01-12\",)"
   ]
  },
  {
   "cell_type": "code",
   "execution_count": 15,
   "metadata": {},
   "outputs": [],
   "source": [
    "index_price_13m=sp500.history(start=\"2022-01-01\", end=\"2023-01-31\",)\n",
    "index_price_13m.drop(labels=[\"Dividends\",\"Stock Splits\"],axis=1,inplace=True)\n",
    "index_price_13m=index_price_13m.tz_localize(None)"
   ]
  },
  {
   "cell_type": "code",
   "execution_count": 16,
   "metadata": {},
   "outputs": [],
   "source": [
    "index_price.drop(labels=[\"Dividends\",\"Stock Splits\"],axis=1,inplace=True)"
   ]
  },
  {
   "cell_type": "code",
   "execution_count": 17,
   "metadata": {},
   "outputs": [],
   "source": [
    "index_price=index_price.tz_localize(None)"
   ]
  },
  {
   "cell_type": "code",
   "execution_count": 18,
   "metadata": {},
   "outputs": [
    {
     "name": "stdout",
     "output_type": "stream",
     "text": [
      "<class 'pandas.core.frame.DataFrame'>\n",
      "DatetimeIndex: 49 entries, 2022-11-01 to 2023-01-11\n",
      "Data columns (total 5 columns):\n",
      " #   Column  Non-Null Count  Dtype  \n",
      "---  ------  --------------  -----  \n",
      " 0   Open    49 non-null     float64\n",
      " 1   High    49 non-null     float64\n",
      " 2   Low     49 non-null     float64\n",
      " 3   Close   49 non-null     float64\n",
      " 4   Volume  49 non-null     int64  \n",
      "dtypes: float64(4), int64(1)\n",
      "memory usage: 2.3 KB\n"
     ]
    }
   ],
   "source": [
    "index_price.info()"
   ]
  },
  {
   "cell_type": "markdown",
   "metadata": {},
   "source": [
    "                                                                                    DATA WRANGLING & CLEANING "
   ]
  },
  {
   "cell_type": "code",
   "execution_count": 19,
   "metadata": {},
   "outputs": [],
   "source": [
    "#index=pd.read_csv"
   ]
  },
  {
   "cell_type": "code",
   "execution_count": 20,
   "metadata": {},
   "outputs": [
    {
     "name": "stdout",
     "output_type": "stream",
     "text": [
      "<class 'pandas.core.frame.DataFrame'>\n",
      "RangeIndex: 10000 entries, 0 to 9999\n",
      "Data columns (total 8 columns):\n",
      " #   Column        Non-Null Count  Dtype \n",
      "---  ------        --------------  ----- \n",
      " 0   Unnamed: 0    10000 non-null  int64 \n",
      " 1   title         10000 non-null  object\n",
      " 2   url           10000 non-null  object\n",
      " 3   description   10000 non-null  object\n",
      " 4   source        10000 non-null  object\n",
      " 5   tickers       10000 non-null  object\n",
      " 6   tags          10000 non-null  object\n",
      " 7   published_at  10000 non-null  object\n",
      "dtypes: int64(1), object(7)\n",
      "memory usage: 625.1+ KB\n"
     ]
    }
   ],
   "source": [
    "news.info()"
   ]
  },
  {
   "cell_type": "code",
   "execution_count": 21,
   "metadata": {},
   "outputs": [],
   "source": [
    "news.drop(labels=\"Unnamed: 0\",axis=1,inplace=True)"
   ]
  },
  {
   "cell_type": "code",
   "execution_count": 22,
   "metadata": {},
   "outputs": [],
   "source": [
    "news_2.drop(labels=\"Unnamed: 0\",axis=1,inplace=True)"
   ]
  },
  {
   "cell_type": "code",
   "execution_count": 23,
   "metadata": {},
   "outputs": [
    {
     "data": {
      "text/plain": [
       "title           0\n",
       "url             0\n",
       "description     0\n",
       "source          0\n",
       "tickers         0\n",
       "tags            0\n",
       "published_at    0\n",
       "dtype: int64"
      ]
     },
     "execution_count": 23,
     "metadata": {},
     "output_type": "execute_result"
    }
   ],
   "source": [
    "news.isna().sum()"
   ]
  },
  {
   "cell_type": "code",
   "execution_count": 24,
   "metadata": {},
   "outputs": [
    {
     "data": {
      "text/plain": [
       "<AxesSubplot:xlabel='source', ylabel='count'>"
      ]
     },
     "execution_count": 24,
     "metadata": {},
     "output_type": "execute_result"
    },
    {
     "data": {
      "image/png": "[encoded data removed]",
      "text/plain": [
       "<Figure size 640x480 with 1 Axes>"
      ]
     },
     "metadata": {},
     "output_type": "display_data"
    }
   ],
   "source": [
    "sns.countplot(data=news,x=\"source\")"
   ]
  },
  {
   "cell_type": "markdown",
   "metadata": {},
   "source": [
    "                                                                            FinBERT test"
   ]
  },
  {
   "cell_type": "markdown",
   "metadata": {},
   "source": [
    "Test"
   ]
  },
  {
   "cell_type": "code",
   "execution_count": 25,
   "metadata": {},
   "outputs": [
    {
     "data": {
      "text/plain": [
       "tensor([[  101,  7051, 23054,  9319,  2058, 11179,  2006, 29003,  3372,  6786,\n",
       "         13275,  3976,  4539,  2000,  5345,  1012,   102]])"
      ]
     },
     "execution_count": 25,
     "metadata": {},
     "output_type": "execute_result"
    }
   ],
   "source": [
    "tokens=tokenizer.encode(\"wells fargo maintains overweight on agilent technologies raises price target to 95.\",return_tensors=\"pt\")\n",
    "tokens"
   ]
  },
  {
   "cell_type": "code",
   "execution_count": 26,
   "metadata": {},
   "outputs": [
    {
     "data": {
      "text/plain": [
       "SequenceClassifierOutput(loss=None, logits=tensor([[ 1.7195, -1.9257, -0.9715]], grad_fn=<AddmmBackward0>), hidden_states=None, attentions=None)"
      ]
     },
     "execution_count": 26,
     "metadata": {},
     "output_type": "execute_result"
    }
   ],
   "source": [
    "result=model(tokens)\n",
    "result"
   ]
  },
  {
   "cell_type": "code",
   "execution_count": 27,
   "metadata": {},
   "outputs": [
    {
     "data": {
      "text/plain": [
       "tensor([[ 1.7195, -1.9257, -0.9715]], grad_fn=<AddmmBackward0>)"
      ]
     },
     "execution_count": 27,
     "metadata": {},
     "output_type": "execute_result"
    }
   ],
   "source": [
    "result.logits"
   ]
  },
  {
   "cell_type": "code",
   "execution_count": 28,
   "metadata": {},
   "outputs": [
    {
     "data": {
      "text/plain": [
       "tensor(1)"
      ]
     },
     "execution_count": 28,
     "metadata": {},
     "output_type": "execute_result"
    }
   ],
   "source": [
    "\n",
    "(torch.argmax(result.logits))+1\n"
   ]
  },
  {
   "cell_type": "markdown",
   "metadata": {},
   "source": [
    "                                                Apllying Model on tittles"
   ]
  },
  {
   "cell_type": "code",
   "execution_count": 29,
   "metadata": {},
   "outputs": [],
   "source": [
    "def sentiment_score(text):\n",
    "    tokens=tokenizer.encode(text,return_tensors=\"pt\")\n",
    "    result=model(tokens)\n",
    "    return int(torch.argmax(result.logits))+1\n",
    "\n",
    "\n"
   ]
  },
  {
   "cell_type": "code",
   "execution_count": 30,
   "metadata": {},
   "outputs": [],
   "source": [
    "\n",
    "#news[\"sentiment_title\"]=news[\"title\"].apply(lambda x:sentiment_score(x[:512]))\n",
    "#BERT (and many other transformer models) will consume 512 tokens max — truncating anything beyond this length"
   ]
  },
  {
   "cell_type": "code",
   "execution_count": 31,
   "metadata": {},
   "outputs": [],
   "source": [
    "\n",
    "#news_2[\"sentiment_title\"]=news_2[\"title\"].apply(lambda x:sentiment_score(x[:512]))\n",
    "#BERT (and many other transformer models) will consume 512 tokens max — truncating anything beyond this length"
   ]
  },
  {
   "cell_type": "code",
   "execution_count": 32,
   "metadata": {},
   "outputs": [],
   "source": [
    "#news_2.to_csv(\"/Users/Yanaorfin_1/Documents/Academy/Stock_market_sentiment_analysis/Data_set/news_full_2.csv\")"
   ]
  },
  {
   "cell_type": "code",
   "execution_count": 33,
   "metadata": {},
   "outputs": [],
   "source": [
    "#news[\"sentiment_description\"]=news[\"description\"].apply(lambda x:sentiment_score(x[:512]))"
   ]
  },
  {
   "cell_type": "code",
   "execution_count": 34,
   "metadata": {},
   "outputs": [],
   "source": [
    "news=pd.read_csv(\"/Users/Yanaorfin_1/Documents/Academy/Stock_market_sentiment_analysis/Data_set/news_full.csv\")"
   ]
  },
  {
   "cell_type": "code",
   "execution_count": 35,
   "metadata": {},
   "outputs": [],
   "source": [
    "news_2=pd.read_csv(\"/Users/Yanaorfin_1/Documents/Academy/Stock_market_sentiment_analysis/Data_set/news_full_2.csv\")"
   ]
  },
  {
   "cell_type": "code",
   "execution_count": 36,
   "metadata": {},
   "outputs": [
    {
     "name": "stderr",
     "output_type": "stream",
     "text": [
      "/var/folders/0g/qs1_nm7j3n30v6qskgpxqmd80000gn/T/ipykernel_34453/2509051536.py:1: FutureWarning: The frame.append method is deprecated and will be removed from pandas in a future version. Use pandas.concat instead.\n",
      "  news=news.append(news_2)\n"
     ]
    }
   ],
   "source": [
    "news=news.append(news_2)"
   ]
  },
  {
   "cell_type": "code",
   "execution_count": 37,
   "metadata": {},
   "outputs": [],
   "source": [
    "news[\"date\"]=pd.to_datetime(news[\"published_at\"]).dt.date\n"
   ]
  },
  {
   "cell_type": "code",
   "execution_count": 38,
   "metadata": {},
   "outputs": [
    {
     "name": "stdout",
     "output_type": "stream",
     "text": [
      "<class 'pandas.core.frame.DataFrame'>\n",
      "Int64Index: 20000 entries, 0 to 9999\n",
      "Data columns (total 11 columns):\n",
      " #   Column                 Non-Null Count  Dtype  \n",
      "---  ------                 --------------  -----  \n",
      " 0   Unnamed: 0             20000 non-null  int64  \n",
      " 1   title                  20000 non-null  object \n",
      " 2   url                    20000 non-null  object \n",
      " 3   description            20000 non-null  object \n",
      " 4   source                 20000 non-null  object \n",
      " 5   tickers                20000 non-null  object \n",
      " 6   tags                   20000 non-null  object \n",
      " 7   published_at           20000 non-null  object \n",
      " 8   sentiment_title        20000 non-null  int64  \n",
      " 9   sentiment_description  10000 non-null  float64\n",
      " 10  date                   20000 non-null  object \n",
      "dtypes: float64(1), int64(2), object(8)\n",
      "memory usage: 1.8+ MB\n"
     ]
    }
   ],
   "source": [
    "news.info()"
   ]
  },
  {
   "cell_type": "code",
   "execution_count": 39,
   "metadata": {},
   "outputs": [],
   "source": [
    "news.drop(labels=\"Unnamed: 0\",axis=1,inplace=True)"
   ]
  },
  {
   "cell_type": "code",
   "execution_count": 40,
   "metadata": {},
   "outputs": [],
   "source": [
    "news.reset_index(inplace=True)"
   ]
  },
  {
   "cell_type": "code",
   "execution_count": 41,
   "metadata": {},
   "outputs": [],
   "source": [
    "news.drop(labels=\"index\",axis=1,inplace=True)"
   ]
  },
  {
   "cell_type": "code",
   "execution_count": 42,
   "metadata": {},
   "outputs": [
    {
     "data": {
      "text/plain": [
       "<AxesSubplot:xlabel='sentiment_description', ylabel='count'>"
      ]
     },
     "execution_count": 42,
     "metadata": {},
     "output_type": "execute_result"
    },
    {
     "data": {
      "image/png": "[encoded data removed]",
      "text/plain": [
       "<Figure size 640x480 with 2 Axes>"
      ]
     },
     "metadata": {},
     "output_type": "display_data"
    }
   ],
   "source": [
    "n_subplots=2\n",
    "sharey=True\n",
    "fig,axs=plt.subplots(1,n_subplots,sharey=sharey)\n",
    "sns.countplot(data=news,x=\"sentiment_title\",ax=axs[0])\n",
    "sns.countplot(data=news,x=\"sentiment_description\",ax=axs[1])\n",
    "\n"
   ]
  },
  {
   "cell_type": "code",
   "execution_count": 43,
   "metadata": {},
   "outputs": [],
   "source": [
    "#news.to_csv(\"/Users/Yanaorfin_1/Documents/Academy/Stock_market_sentiment_analysis/Data_set/news_full.csv\")"
   ]
  },
  {
   "cell_type": "code",
   "execution_count": 44,
   "metadata": {},
   "outputs": [],
   "source": [
    "grouped_news=news.loc[:,[\"date\",\"sentiment_title\",\"sentiment_description\"]].groupby(by=\"date\",axis=0,dropna=True,as_index=True).mean()"
   ]
  },
  {
   "cell_type": "code",
   "execution_count": 45,
   "metadata": {},
   "outputs": [
    {
     "data": {
      "text/html": [
       "<div>\n",
       "<style scoped>\n",
       "    .dataframe tbody tr th:only-of-type {\n",
       "        vertical-align: middle;\n",
       "    }\n",
       "\n",
       "    .dataframe tbody tr th {\n",
       "        vertical-align: top;\n",
       "    }\n",
       "\n",
       "    .dataframe thead th {\n",
       "        text-align: right;\n",
       "    }\n",
       "</style>\n",
       "<table border=\"1\" class=\"dataframe\">\n",
       "  <thead>\n",
       "    <tr style=\"text-align: right;\">\n",
       "      <th></th>\n",
       "      <th>sentiment_title</th>\n",
       "      <th>sentiment_description</th>\n",
       "    </tr>\n",
       "    <tr>\n",
       "      <th>date</th>\n",
       "      <th></th>\n",
       "      <th></th>\n",
       "    </tr>\n",
       "  </thead>\n",
       "  <tbody>\n",
       "    <tr>\n",
       "      <th>2022-11-01</th>\n",
       "      <td>1.800000</td>\n",
       "      <td>1.646154</td>\n",
       "    </tr>\n",
       "    <tr>\n",
       "      <th>2022-11-02</th>\n",
       "      <td>1.911765</td>\n",
       "      <td>1.926471</td>\n",
       "    </tr>\n",
       "    <tr>\n",
       "      <th>2022-11-03</th>\n",
       "      <td>1.916667</td>\n",
       "      <td>1.816667</td>\n",
       "    </tr>\n",
       "    <tr>\n",
       "      <th>2022-11-04</th>\n",
       "      <td>1.843137</td>\n",
       "      <td>1.607843</td>\n",
       "    </tr>\n",
       "    <tr>\n",
       "      <th>2022-11-05</th>\n",
       "      <td>2.000000</td>\n",
       "      <td>2.000000</td>\n",
       "    </tr>\n",
       "  </tbody>\n",
       "</table>\n",
       "</div>"
      ],
      "text/plain": [
       "            sentiment_title  sentiment_description\n",
       "date                                              \n",
       "2022-11-01         1.800000               1.646154\n",
       "2022-11-02         1.911765               1.926471\n",
       "2022-11-03         1.916667               1.816667\n",
       "2022-11-04         1.843137               1.607843\n",
       "2022-11-05         2.000000               2.000000"
      ]
     },
     "execution_count": 45,
     "metadata": {},
     "output_type": "execute_result"
    }
   ],
   "source": [
    "grouped_news.head()"
   ]
  },
  {
   "cell_type": "code",
   "execution_count": 46,
   "metadata": {},
   "outputs": [
    {
     "data": {
      "text/plain": [
       "<AxesSubplot:xlabel='date'>"
      ]
     },
     "execution_count": 46,
     "metadata": {},
     "output_type": "execute_result"
    },
    {
     "data": {
      "image/png": "[encoded data removed]",
      "text/plain": [
       "<Figure size 640x480 with 1 Axes>"
      ]
     },
     "metadata": {},
     "output_type": "display_data"
    }
   ],
   "source": [
    "sns.lineplot(data=grouped_news)"
   ]
  },
  {
   "cell_type": "code",
   "execution_count": 47,
   "metadata": {},
   "outputs": [
    {
     "data": {
      "text/html": [
       "<div>\n",
       "<style scoped>\n",
       "    .dataframe tbody tr th:only-of-type {\n",
       "        vertical-align: middle;\n",
       "    }\n",
       "\n",
       "    .dataframe tbody tr th {\n",
       "        vertical-align: top;\n",
       "    }\n",
       "\n",
       "    .dataframe thead th {\n",
       "        text-align: right;\n",
       "    }\n",
       "</style>\n",
       "<table border=\"1\" class=\"dataframe\">\n",
       "  <thead>\n",
       "    <tr style=\"text-align: right;\">\n",
       "      <th></th>\n",
       "      <th>Open</th>\n",
       "      <th>High</th>\n",
       "      <th>Low</th>\n",
       "      <th>Close</th>\n",
       "      <th>Volume</th>\n",
       "    </tr>\n",
       "    <tr>\n",
       "      <th>Date</th>\n",
       "      <th></th>\n",
       "      <th></th>\n",
       "      <th></th>\n",
       "      <th></th>\n",
       "      <th></th>\n",
       "    </tr>\n",
       "  </thead>\n",
       "  <tbody>\n",
       "    <tr>\n",
       "      <th>2023-01-11</th>\n",
       "      <td>3932.350098</td>\n",
       "      <td>3970.070068</td>\n",
       "      <td>3928.540039</td>\n",
       "      <td>3969.610107</td>\n",
       "      <td>4303360000</td>\n",
       "    </tr>\n",
       "  </tbody>\n",
       "</table>\n",
       "</div>"
      ],
      "text/plain": [
       "                   Open         High          Low        Close      Volume\n",
       "Date                                                                      \n",
       "2023-01-11  3932.350098  3970.070068  3928.540039  3969.610107  4303360000"
      ]
     },
     "execution_count": 47,
     "metadata": {},
     "output_type": "execute_result"
    }
   ],
   "source": [
    "index_price.tail(1)"
   ]
  },
  {
   "cell_type": "code",
   "execution_count": 48,
   "metadata": {},
   "outputs": [],
   "source": [
    "full_data=index_price.join(grouped_news, how=\"left\")"
   ]
  },
  {
   "cell_type": "code",
   "execution_count": 49,
   "metadata": {},
   "outputs": [],
   "source": [
    "full_data.drop(labels=\"sentiment_description\",axis=1,inplace=True)"
   ]
  },
  {
   "cell_type": "code",
   "execution_count": 50,
   "metadata": {},
   "outputs": [
    {
     "name": "stdout",
     "output_type": "stream",
     "text": [
      "<class 'pandas.core.frame.DataFrame'>\n",
      "DatetimeIndex: 49 entries, 2022-11-01 to 2023-01-11\n",
      "Data columns (total 6 columns):\n",
      " #   Column           Non-Null Count  Dtype  \n",
      "---  ------           --------------  -----  \n",
      " 0   Open             49 non-null     float64\n",
      " 1   High             49 non-null     float64\n",
      " 2   Low              49 non-null     float64\n",
      " 3   Close            49 non-null     float64\n",
      " 4   Volume           49 non-null     int64  \n",
      " 5   sentiment_title  49 non-null     float64\n",
      "dtypes: float64(5), int64(1)\n",
      "memory usage: 3.7 KB\n"
     ]
    }
   ],
   "source": [
    "full_data.info()"
   ]
  },
  {
   "cell_type": "code",
   "execution_count": 51,
   "metadata": {},
   "outputs": [
    {
     "data": {
      "image/png": "[encoded data removed]",
      "text/plain": [
       "<Figure size 800x400 with 2 Axes>"
      ]
     },
     "metadata": {},
     "output_type": "display_data"
    }
   ],
   "source": [
    "#Correlation matrix\n",
    "\n",
    "fig,axs=plt.subplots(figsize=(8,4))\n",
    "\n",
    "corr_data=full_data[[\"Volume\",\"Open\",\"Close\",\"sentiment_title\"]]\n",
    "# hour_df=hour[[\"yr\",\"season\",\"holiday\",\"mnth\",\"weekday\",\"orkingday\",\"weathersit\",\"temp\",\"atemp\",\"hum\",\"windspeed\",\"weather_score\",\"casual\",\"registered\"]]\n",
    "matrix_df=corr_data.corr()\n",
    "\n",
    "# Generate a mask to onlyshow the bottom triangle\n",
    "mask = np.triu(np.ones_like(matrix_df, dtype=bool))\n",
    "\n",
    "sns.heatmap(data=matrix_df,cmap=\"coolwarm\",vmin=-1,vmax=1,robust=True,square=False,annot=True,mask=mask)\n",
    "plt.show()"
   ]
  },
  {
   "cell_type": "code",
   "execution_count": 52,
   "metadata": {},
   "outputs": [
    {
     "data": {
      "image/png": "[encoded data removed]",
      "text/plain": [
       "<Figure size 640x480 with 2 Axes>"
      ]
     },
     "metadata": {},
     "output_type": "display_data"
    },
    {
     "data": {
      "image/png": "[encoded data removed]",
      "text/plain": [
       "<Figure size 640x480 with 1 Axes>"
      ]
     },
     "metadata": {},
     "output_type": "display_data"
    }
   ],
   "source": [
    "\n",
    "fig, ax = plt.subplots(constrained_layout=True)\n",
    "plt.figure()\n",
    "width=.4\n",
    "width2=.05\n",
    "\n",
    "up=full_data[full_data.Close>=full_data.Open]\n",
    "down=full_data[full_data.Close<full_data.Open]\n",
    "\n",
    "col1=\"green\"\n",
    "col2=\"red\"\n",
    "\n",
    "plt.bar(up.index,up.Close -up.Open,width,bottom=up.Open,color=col1)\n",
    "plt.bar(up.index,up.High -up.Close,width2,bottom=up.Close,color=col1)\n",
    "plt.bar(up.index,up.Low -up.Open,width2,bottom=up.Open,color=col1)\n",
    "\n",
    "\n",
    "plt.bar(down.index,down.Close -down.Open,width,bottom=down.Open,color=col2)\n",
    "plt.bar(down.index,down.High -down.Open,width2,bottom=down.Open,color=col2)\n",
    "plt.bar(down.index,down.Low -down.Close,width2,bottom=down.Close,color=col2)\n",
    "\n",
    "plt.xticks(rotation=45,ha=\"right\")\n",
    "\n",
    "\n",
    "\n",
    "\n",
    "ax2 = ax.twinx()\n",
    "\n",
    "\n",
    "ax2.plot(full_data[\"sentiment_title\"], color='green')\n",
    "ax2.tick_params(axis='y', labelcolor='green')\n",
    "\n",
    "\n",
    "plt.show()"
   ]
  },
  {
   "cell_type": "code",
   "execution_count": 53,
   "metadata": {},
   "outputs": [
    {
     "data": {
      "text/plain": [
       "<AxesSubplot:xlabel='Close', ylabel='sentiment_title'>"
      ]
     },
     "execution_count": 53,
     "metadata": {},
     "output_type": "execute_result"
    },
    {
     "data": {
      "image/png": "[encoded data removed]",
      "text/plain": [
       "<Figure size 640x480 with 1 Axes>"
      ]
     },
     "metadata": {},
     "output_type": "display_data"
    }
   ],
   "source": [
    "sns.lineplot(data=full_data, x=\"Close\",y=\"sentiment_title\")\n"
   ]
  },
  {
   "cell_type": "markdown",
   "metadata": {},
   "source": [
    "                                                                           Classification proplem\n",
    "                                                                predict the  type of \"movement\"  based on the sentiment score"
   ]
  },
  {
   "cell_type": "markdown",
   "metadata": {},
   "source": [
    "Providing Data"
   ]
  },
  {
   "cell_type": "code",
   "execution_count": 89,
   "metadata": {},
   "outputs": [],
   "source": [
    "ml_data_2=full_data.reset_index()"
   ]
  },
  {
   "cell_type": "code",
   "execution_count": 90,
   "metadata": {},
   "outputs": [],
   "source": [
    "ml_data_2[\"Previous_day_close\"]=ml_data_2[\"Close\"].shift(periods=1)"
   ]
  },
  {
   "cell_type": "code",
   "execution_count": 91,
   "metadata": {},
   "outputs": [],
   "source": [
    "change_df_open=ml_data_2.drop(labels=[\"Date\",\"High\",\"Low\",\"Close\",\"sentiment_title\",\"Volume\"],axis=1)"
   ]
  },
  {
   "cell_type": "code",
   "execution_count": 92,
   "metadata": {},
   "outputs": [],
   "source": [
    "change_df_open=change_df_open.iloc[:,0:2].diff(axis=1,periods=-1)"
   ]
  },
  {
   "cell_type": "code",
   "execution_count": 93,
   "metadata": {},
   "outputs": [],
   "source": [
    "change_df_open.rename(columns={\"Open\":\"Сhange_price\"},inplace=True)"
   ]
  },
  {
   "cell_type": "code",
   "execution_count": 94,
   "metadata": {},
   "outputs": [],
   "source": [
    "change_df_open.drop(labels=\"Previous_day_close\",axis=1,inplace=True)"
   ]
  },
  {
   "cell_type": "code",
   "execution_count": 95,
   "metadata": {},
   "outputs": [],
   "source": [
    "ml_data_2=ml_data_2.join(change_df_open,how=\"left\")"
   ]
  },
  {
   "cell_type": "code",
   "execution_count": 96,
   "metadata": {},
   "outputs": [
    {
     "data": {
      "text/html": [
       "<div>\n",
       "<style scoped>\n",
       "    .dataframe tbody tr th:only-of-type {\n",
       "        vertical-align: middle;\n",
       "    }\n",
       "\n",
       "    .dataframe tbody tr th {\n",
       "        vertical-align: top;\n",
       "    }\n",
       "\n",
       "    .dataframe thead th {\n",
       "        text-align: right;\n",
       "    }\n",
       "</style>\n",
       "<table border=\"1\" class=\"dataframe\">\n",
       "  <thead>\n",
       "    <tr style=\"text-align: right;\">\n",
       "      <th></th>\n",
       "      <th>Date</th>\n",
       "      <th>Open</th>\n",
       "      <th>High</th>\n",
       "      <th>Low</th>\n",
       "      <th>Close</th>\n",
       "      <th>Volume</th>\n",
       "      <th>sentiment_title</th>\n",
       "      <th>Previous_day_close</th>\n",
       "      <th>Сhange_price</th>\n",
       "    </tr>\n",
       "  </thead>\n",
       "  <tbody>\n",
       "    <tr>\n",
       "      <th>0</th>\n",
       "      <td>2022-11-01</td>\n",
       "      <td>3901.790039</td>\n",
       "      <td>3911.790039</td>\n",
       "      <td>3843.800049</td>\n",
       "      <td>3856.100098</td>\n",
       "      <td>4481210000</td>\n",
       "      <td>1.800000</td>\n",
       "      <td>NaN</td>\n",
       "      <td>NaN</td>\n",
       "    </tr>\n",
       "    <tr>\n",
       "      <th>1</th>\n",
       "      <td>2022-11-02</td>\n",
       "      <td>3852.899902</td>\n",
       "      <td>3894.439941</td>\n",
       "      <td>3758.679932</td>\n",
       "      <td>3759.689941</td>\n",
       "      <td>4899000000</td>\n",
       "      <td>1.911765</td>\n",
       "      <td>3856.100098</td>\n",
       "      <td>-3.200195</td>\n",
       "    </tr>\n",
       "    <tr>\n",
       "      <th>2</th>\n",
       "      <td>2022-11-03</td>\n",
       "      <td>3733.250000</td>\n",
       "      <td>3750.590088</td>\n",
       "      <td>3698.149902</td>\n",
       "      <td>3719.889893</td>\n",
       "      <td>4625290000</td>\n",
       "      <td>1.916667</td>\n",
       "      <td>3759.689941</td>\n",
       "      <td>-26.439941</td>\n",
       "    </tr>\n",
       "    <tr>\n",
       "      <th>3</th>\n",
       "      <td>2022-11-04</td>\n",
       "      <td>3766.979980</td>\n",
       "      <td>3796.340088</td>\n",
       "      <td>3708.840088</td>\n",
       "      <td>3770.550049</td>\n",
       "      <td>5400180000</td>\n",
       "      <td>1.843137</td>\n",
       "      <td>3719.889893</td>\n",
       "      <td>47.090088</td>\n",
       "    </tr>\n",
       "    <tr>\n",
       "      <th>4</th>\n",
       "      <td>2022-11-07</td>\n",
       "      <td>3780.709961</td>\n",
       "      <td>3813.949951</td>\n",
       "      <td>3764.699951</td>\n",
       "      <td>3806.800049</td>\n",
       "      <td>4341620000</td>\n",
       "      <td>2.050000</td>\n",
       "      <td>3770.550049</td>\n",
       "      <td>10.159912</td>\n",
       "    </tr>\n",
       "  </tbody>\n",
       "</table>\n",
       "</div>"
      ],
      "text/plain": [
       "        Date         Open         High          Low        Close      Volume  \\\n",
       "0 2022-11-01  3901.790039  3911.790039  3843.800049  3856.100098  4481210000   \n",
       "1 2022-11-02  3852.899902  3894.439941  3758.679932  3759.689941  4899000000   \n",
       "2 2022-11-03  3733.250000  3750.590088  3698.149902  3719.889893  4625290000   \n",
       "3 2022-11-04  3766.979980  3796.340088  3708.840088  3770.550049  5400180000   \n",
       "4 2022-11-07  3780.709961  3813.949951  3764.699951  3806.800049  4341620000   \n",
       "\n",
       "   sentiment_title  Previous_day_close  Сhange_price  \n",
       "0         1.800000                 NaN           NaN  \n",
       "1         1.911765         3856.100098     -3.200195  \n",
       "2         1.916667         3759.689941    -26.439941  \n",
       "3         1.843137         3719.889893     47.090088  \n",
       "4         2.050000         3770.550049     10.159912  "
      ]
     },
     "execution_count": 96,
     "metadata": {},
     "output_type": "execute_result"
    }
   ],
   "source": [
    "ml_data_2.head()"
   ]
  },
  {
   "cell_type": "code",
   "execution_count": 97,
   "metadata": {},
   "outputs": [],
   "source": [
    "ml_data_2.dropna(axis=0,inplace=True)"
   ]
  },
  {
   "cell_type": "code",
   "execution_count": 98,
   "metadata": {},
   "outputs": [
    {
     "name": "stdout",
     "output_type": "stream",
     "text": [
      "<class 'pandas.core.frame.DataFrame'>\n",
      "Int64Index: 48 entries, 1 to 48\n",
      "Data columns (total 9 columns):\n",
      " #   Column              Non-Null Count  Dtype         \n",
      "---  ------              --------------  -----         \n",
      " 0   Date                48 non-null     datetime64[ns]\n",
      " 1   Open                48 non-null     float64       \n",
      " 2   High                48 non-null     float64       \n",
      " 3   Low                 48 non-null     float64       \n",
      " 4   Close               48 non-null     float64       \n",
      " 5   Volume              48 non-null     int64         \n",
      " 6   sentiment_title     48 non-null     float64       \n",
      " 7   Previous_day_close  48 non-null     float64       \n",
      " 8   Сhange_price        48 non-null     float64       \n",
      "dtypes: datetime64[ns](1), float64(7), int64(1)\n",
      "memory usage: 3.8 KB\n"
     ]
    }
   ],
   "source": [
    "ml_data_2.info()"
   ]
  },
  {
   "cell_type": "code",
   "execution_count": 100,
   "metadata": {},
   "outputs": [],
   "source": [
    "conditions=[(ml_data_2[\"Сhange_price\"]>=0),(ml_data_2[\"Сhange_price\"]<0)]\n",
    "values=[\"up\",\"down\"]"
   ]
  },
  {
   "cell_type": "code",
   "execution_count": 101,
   "metadata": {},
   "outputs": [],
   "source": [
    "ml_data_2[\"movement\"]=np.select(conditions,values)"
   ]
  },
  {
   "cell_type": "code",
   "execution_count": 102,
   "metadata": {},
   "outputs": [
    {
     "data": {
      "text/html": [
       "<div>\n",
       "<style scoped>\n",
       "    .dataframe tbody tr th:only-of-type {\n",
       "        vertical-align: middle;\n",
       "    }\n",
       "\n",
       "    .dataframe tbody tr th {\n",
       "        vertical-align: top;\n",
       "    }\n",
       "\n",
       "    .dataframe thead th {\n",
       "        text-align: right;\n",
       "    }\n",
       "</style>\n",
       "<table border=\"1\" class=\"dataframe\">\n",
       "  <thead>\n",
       "    <tr style=\"text-align: right;\">\n",
       "      <th></th>\n",
       "      <th>Date</th>\n",
       "      <th>Open</th>\n",
       "      <th>High</th>\n",
       "      <th>Low</th>\n",
       "      <th>Close</th>\n",
       "      <th>Volume</th>\n",
       "      <th>sentiment_title</th>\n",
       "      <th>Previous_day_close</th>\n",
       "      <th>Сhange_price</th>\n",
       "      <th>movement</th>\n",
       "    </tr>\n",
       "  </thead>\n",
       "  <tbody>\n",
       "    <tr>\n",
       "      <th>1</th>\n",
       "      <td>2022-11-02</td>\n",
       "      <td>3852.899902</td>\n",
       "      <td>3894.439941</td>\n",
       "      <td>3758.679932</td>\n",
       "      <td>3759.689941</td>\n",
       "      <td>4899000000</td>\n",
       "      <td>1.911765</td>\n",
       "      <td>3856.100098</td>\n",
       "      <td>-3.200195</td>\n",
       "      <td>down</td>\n",
       "    </tr>\n",
       "    <tr>\n",
       "      <th>2</th>\n",
       "      <td>2022-11-03</td>\n",
       "      <td>3733.250000</td>\n",
       "      <td>3750.590088</td>\n",
       "      <td>3698.149902</td>\n",
       "      <td>3719.889893</td>\n",
       "      <td>4625290000</td>\n",
       "      <td>1.916667</td>\n",
       "      <td>3759.689941</td>\n",
       "      <td>-26.439941</td>\n",
       "      <td>down</td>\n",
       "    </tr>\n",
       "    <tr>\n",
       "      <th>3</th>\n",
       "      <td>2022-11-04</td>\n",
       "      <td>3766.979980</td>\n",
       "      <td>3796.340088</td>\n",
       "      <td>3708.840088</td>\n",
       "      <td>3770.550049</td>\n",
       "      <td>5400180000</td>\n",
       "      <td>1.843137</td>\n",
       "      <td>3719.889893</td>\n",
       "      <td>47.090088</td>\n",
       "      <td>up</td>\n",
       "    </tr>\n",
       "    <tr>\n",
       "      <th>4</th>\n",
       "      <td>2022-11-07</td>\n",
       "      <td>3780.709961</td>\n",
       "      <td>3813.949951</td>\n",
       "      <td>3764.699951</td>\n",
       "      <td>3806.800049</td>\n",
       "      <td>4341620000</td>\n",
       "      <td>2.050000</td>\n",
       "      <td>3770.550049</td>\n",
       "      <td>10.159912</td>\n",
       "      <td>up</td>\n",
       "    </tr>\n",
       "    <tr>\n",
       "      <th>5</th>\n",
       "      <td>2022-11-08</td>\n",
       "      <td>3817.020020</td>\n",
       "      <td>3859.399902</td>\n",
       "      <td>3786.280029</td>\n",
       "      <td>3828.110107</td>\n",
       "      <td>4607640000</td>\n",
       "      <td>1.712121</td>\n",
       "      <td>3806.800049</td>\n",
       "      <td>10.219971</td>\n",
       "      <td>up</td>\n",
       "    </tr>\n",
       "  </tbody>\n",
       "</table>\n",
       "</div>"
      ],
      "text/plain": [
       "        Date         Open         High          Low        Close      Volume  \\\n",
       "1 2022-11-02  3852.899902  3894.439941  3758.679932  3759.689941  4899000000   \n",
       "2 2022-11-03  3733.250000  3750.590088  3698.149902  3719.889893  4625290000   \n",
       "3 2022-11-04  3766.979980  3796.340088  3708.840088  3770.550049  5400180000   \n",
       "4 2022-11-07  3780.709961  3813.949951  3764.699951  3806.800049  4341620000   \n",
       "5 2022-11-08  3817.020020  3859.399902  3786.280029  3828.110107  4607640000   \n",
       "\n",
       "   sentiment_title  Previous_day_close  Сhange_price movement  \n",
       "1         1.911765         3856.100098     -3.200195     down  \n",
       "2         1.916667         3759.689941    -26.439941     down  \n",
       "3         1.843137         3719.889893     47.090088       up  \n",
       "4         2.050000         3770.550049     10.159912       up  \n",
       "5         1.712121         3806.800049     10.219971       up  "
      ]
     },
     "execution_count": 102,
     "metadata": {},
     "output_type": "execute_result"
    }
   ],
   "source": [
    "ml_data_2.head()"
   ]
  },
  {
   "cell_type": "markdown",
   "metadata": {},
   "source": [
    "Encoding"
   ]
  },
  {
   "cell_type": "code",
   "execution_count": 103,
   "metadata": {},
   "outputs": [],
   "source": [
    "enc=LabelEncoder()\n",
    "ml_data_2[\"movement_cat\"]=enc.fit_transform(ml_data_2[\"movement\"])\n",
    "\n"
   ]
  },
  {
   "cell_type": "code",
   "execution_count": 104,
   "metadata": {},
   "outputs": [
    {
     "data": {
      "text/html": [
       "<div>\n",
       "<style scoped>\n",
       "    .dataframe tbody tr th:only-of-type {\n",
       "        vertical-align: middle;\n",
       "    }\n",
       "\n",
       "    .dataframe tbody tr th {\n",
       "        vertical-align: top;\n",
       "    }\n",
       "\n",
       "    .dataframe thead th {\n",
       "        text-align: right;\n",
       "    }\n",
       "</style>\n",
       "<table border=\"1\" class=\"dataframe\">\n",
       "  <thead>\n",
       "    <tr style=\"text-align: right;\">\n",
       "      <th></th>\n",
       "      <th>Date</th>\n",
       "      <th>Open</th>\n",
       "      <th>High</th>\n",
       "      <th>Low</th>\n",
       "      <th>Close</th>\n",
       "      <th>Volume</th>\n",
       "      <th>sentiment_title</th>\n",
       "      <th>Previous_day_close</th>\n",
       "      <th>Сhange_price</th>\n",
       "      <th>movement</th>\n",
       "      <th>movement_cat</th>\n",
       "    </tr>\n",
       "  </thead>\n",
       "  <tbody>\n",
       "    <tr>\n",
       "      <th>1</th>\n",
       "      <td>2022-11-02</td>\n",
       "      <td>3852.899902</td>\n",
       "      <td>3894.439941</td>\n",
       "      <td>3758.679932</td>\n",
       "      <td>3759.689941</td>\n",
       "      <td>4899000000</td>\n",
       "      <td>1.911765</td>\n",
       "      <td>3856.100098</td>\n",
       "      <td>-3.200195</td>\n",
       "      <td>down</td>\n",
       "      <td>0</td>\n",
       "    </tr>\n",
       "    <tr>\n",
       "      <th>2</th>\n",
       "      <td>2022-11-03</td>\n",
       "      <td>3733.250000</td>\n",
       "      <td>3750.590088</td>\n",
       "      <td>3698.149902</td>\n",
       "      <td>3719.889893</td>\n",
       "      <td>4625290000</td>\n",
       "      <td>1.916667</td>\n",
       "      <td>3759.689941</td>\n",
       "      <td>-26.439941</td>\n",
       "      <td>down</td>\n",
       "      <td>0</td>\n",
       "    </tr>\n",
       "    <tr>\n",
       "      <th>3</th>\n",
       "      <td>2022-11-04</td>\n",
       "      <td>3766.979980</td>\n",
       "      <td>3796.340088</td>\n",
       "      <td>3708.840088</td>\n",
       "      <td>3770.550049</td>\n",
       "      <td>5400180000</td>\n",
       "      <td>1.843137</td>\n",
       "      <td>3719.889893</td>\n",
       "      <td>47.090088</td>\n",
       "      <td>up</td>\n",
       "      <td>1</td>\n",
       "    </tr>\n",
       "    <tr>\n",
       "      <th>4</th>\n",
       "      <td>2022-11-07</td>\n",
       "      <td>3780.709961</td>\n",
       "      <td>3813.949951</td>\n",
       "      <td>3764.699951</td>\n",
       "      <td>3806.800049</td>\n",
       "      <td>4341620000</td>\n",
       "      <td>2.050000</td>\n",
       "      <td>3770.550049</td>\n",
       "      <td>10.159912</td>\n",
       "      <td>up</td>\n",
       "      <td>1</td>\n",
       "    </tr>\n",
       "    <tr>\n",
       "      <th>5</th>\n",
       "      <td>2022-11-08</td>\n",
       "      <td>3817.020020</td>\n",
       "      <td>3859.399902</td>\n",
       "      <td>3786.280029</td>\n",
       "      <td>3828.110107</td>\n",
       "      <td>4607640000</td>\n",
       "      <td>1.712121</td>\n",
       "      <td>3806.800049</td>\n",
       "      <td>10.219971</td>\n",
       "      <td>up</td>\n",
       "      <td>1</td>\n",
       "    </tr>\n",
       "  </tbody>\n",
       "</table>\n",
       "</div>"
      ],
      "text/plain": [
       "        Date         Open         High          Low        Close      Volume  \\\n",
       "1 2022-11-02  3852.899902  3894.439941  3758.679932  3759.689941  4899000000   \n",
       "2 2022-11-03  3733.250000  3750.590088  3698.149902  3719.889893  4625290000   \n",
       "3 2022-11-04  3766.979980  3796.340088  3708.840088  3770.550049  5400180000   \n",
       "4 2022-11-07  3780.709961  3813.949951  3764.699951  3806.800049  4341620000   \n",
       "5 2022-11-08  3817.020020  3859.399902  3786.280029  3828.110107  4607640000   \n",
       "\n",
       "   sentiment_title  Previous_day_close  Сhange_price movement  movement_cat  \n",
       "1         1.911765         3856.100098     -3.200195     down             0  \n",
       "2         1.916667         3759.689941    -26.439941     down             0  \n",
       "3         1.843137         3719.889893     47.090088       up             1  \n",
       "4         2.050000         3770.550049     10.159912       up             1  \n",
       "5         1.712121         3806.800049     10.219971       up             1  "
      ]
     },
     "execution_count": 104,
     "metadata": {},
     "output_type": "execute_result"
    }
   ],
   "source": [
    "ml_data_2.head()"
   ]
  },
  {
   "cell_type": "markdown",
   "metadata": {},
   "source": [
    "Spliting"
   ]
  },
  {
   "cell_type": "code",
   "execution_count": 105,
   "metadata": {},
   "outputs": [
    {
     "name": "stdout",
     "output_type": "stream",
     "text": [
      "(38, 1)\n",
      "(10, 1)\n",
      "(38,)\n",
      "(10,)\n"
     ]
    }
   ],
   "source": [
    "X=ml_data_2.iloc[:,6:7]\n",
    "y=ml_data_2.movement_cat\n",
    "X_train,X_test,y_train,y_test=train_test_split(X,y,test_size=0.2)\n",
    "print(X_train.shape)\n",
    "print(X_test.shape)\n",
    "print(y_train.shape)\n",
    "print(y_test.shape)"
   ]
  },
  {
   "cell_type": "markdown",
   "metadata": {},
   "source": [
    "Standartisation"
   ]
  },
  {
   "cell_type": "code",
   "execution_count": 108,
   "metadata": {},
   "outputs": [],
   "source": [
    "scX=StandardScaler()\n",
    "X_test_sc=scX.fit_transform(X_test)\n",
    "X_train_sc=scX.fit_transform(X_train)"
   ]
  },
  {
   "cell_type": "code",
   "execution_count": 109,
   "metadata": {},
   "outputs": [
    {
     "name": "stdout",
     "output_type": "stream",
     "text": [
      "[[-1.79217824]\n",
      " [ 1.82955001]\n",
      " [-0.14296615]\n",
      " [-1.54974369]\n",
      " [ 0.29780165]\n",
      " [ 0.72854982]\n",
      " [ 0.27922072]\n",
      " [ 0.45465892]\n",
      " [-0.28595048]\n",
      " [ 0.18105744]]\n"
     ]
    }
   ],
   "source": [
    "print(X_test_sc)"
   ]
  },
  {
   "cell_type": "markdown",
   "metadata": {},
   "source": [
    "Model fitting"
   ]
  },
  {
   "cell_type": "code",
   "execution_count": 110,
   "metadata": {},
   "outputs": [
    {
     "data": {
      "text/plain": [
       "LogisticRegression()"
      ]
     },
     "execution_count": 110,
     "metadata": {},
     "output_type": "execute_result"
    }
   ],
   "source": [
    "lgr=LogisticRegression()\n",
    "lgr.fit(X_train_sc,y_train)"
   ]
  },
  {
   "cell_type": "markdown",
   "metadata": {},
   "source": [
    "Model Prediction"
   ]
  },
  {
   "cell_type": "code",
   "execution_count": 111,
   "metadata": {},
   "outputs": [],
   "source": [
    "y_predict=lgr.predict(X_test_sc)"
   ]
  },
  {
   "cell_type": "markdown",
   "metadata": {},
   "source": [
    "Model Evaluation"
   ]
  },
  {
   "cell_type": "code",
   "execution_count": 112,
   "metadata": {},
   "outputs": [
    {
     "data": {
      "text/html": [
       "<div>\n",
       "<style scoped>\n",
       "    .dataframe tbody tr th:only-of-type {\n",
       "        vertical-align: middle;\n",
       "    }\n",
       "\n",
       "    .dataframe tbody tr th {\n",
       "        vertical-align: top;\n",
       "    }\n",
       "\n",
       "    .dataframe thead th {\n",
       "        text-align: right;\n",
       "    }\n",
       "</style>\n",
       "<table border=\"1\" class=\"dataframe\">\n",
       "  <thead>\n",
       "    <tr style=\"text-align: right;\">\n",
       "      <th></th>\n",
       "      <th>up</th>\n",
       "      <th>down</th>\n",
       "    </tr>\n",
       "  </thead>\n",
       "  <tbody>\n",
       "    <tr>\n",
       "      <th>up</th>\n",
       "      <td>5</td>\n",
       "      <td>0</td>\n",
       "    </tr>\n",
       "    <tr>\n",
       "      <th>down</th>\n",
       "      <td>3</td>\n",
       "      <td>2</td>\n",
       "    </tr>\n",
       "  </tbody>\n",
       "</table>\n",
       "</div>"
      ],
      "text/plain": [
       "      up  down\n",
       "up     5     0\n",
       "down   3     2"
      ]
     },
     "execution_count": 112,
     "metadata": {},
     "output_type": "execute_result"
    }
   ],
   "source": [
    "#Confusion matrix \n",
    "label=[\"up\",\"down\"]\n",
    "cm=confusion_matrix(y_test,y_predict)\n",
    "pd.DataFrame(cm,index=label,columns=label)"
   ]
  },
  {
   "cell_type": "code",
   "execution_count": 113,
   "metadata": {},
   "outputs": [
    {
     "name": "stdout",
     "output_type": "stream",
     "text": [
      "accuracy_score is 0.7\n",
      "              precision    recall  f1-score   support\n",
      "\n",
      "          up       0.62      1.00      0.77         5\n",
      "        down       1.00      0.40      0.57         5\n",
      "\n",
      "    accuracy                           0.70        10\n",
      "   macro avg       0.81      0.70      0.67        10\n",
      "weighted avg       0.81      0.70      0.67        10\n",
      "\n"
     ]
    }
   ],
   "source": [
    "print(\"accuracy_score is\",accuracy_score(y_test,y_predict))\n",
    "print(classification_report(y_test,y_predict,target_names=[\"up\",\"down\"]))"
   ]
  },
  {
   "cell_type": "markdown",
   "metadata": {},
   "source": [
    "Model Improving"
   ]
  }
 ],
 "metadata": {
  "kernelspec": {
   "display_name": "Python 3.9.13 ('base')",
   "language": "python",
   "name": "python3"
  },
  "language_info": {
   "codemirror_mode": {
    "name": "ipython",
    "version": 3
   },
   "file_extension": ".py",
   "mimetype": "text/x-python",
   "name": "python",
   "nbconvert_exporter": "python",
   "pygments_lexer": "ipython3",
   "version": "3.9.13"
  },
  "orig_nbformat": 4,
  "vscode": {
   "interpreter": {
    "hash": "57bc5005a1ad0d7f34527b41ef0b29988d5343d619860cd395788fc5b3aed7a4"
   }
  }
 },
 "nbformat": 4,
 "nbformat_minor": 2
}
